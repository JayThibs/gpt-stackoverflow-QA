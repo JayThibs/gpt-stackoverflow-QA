{
  "nbformat": 4,
  "nbformat_minor": 0,
  "metadata": {
    "colab": {
      "name": "data_preparation.ipynb",
      "provenance": [],
      "collapsed_sections": [],
      "machine_shape": "hm",
      "authorship_tag": "ABX9TyPmCJCgsw1w71ZKgeT6CUS4",
      "include_colab_link": true
    },
    "kernelspec": {
      "name": "python3",
      "display_name": "Python 3"
    },
    "language_info": {
      "name": "python"
    },
    "accelerator": "GPU"
  },
  "cells": [
    {
      "cell_type": "markdown",
      "metadata": {
        "id": "view-in-github",
        "colab_type": "text"
      },
      "source": [
        "<a href=\"https://colab.research.google.com/github/JayThibs/gpt-stackoverflow-QA/blob/main/data_preparation/data_preparation.ipynb\" target=\"_parent\"><img src=\"https://colab.research.google.com/assets/colab-badge.svg\" alt=\"Open In Colab\"/></a>"
      ]
    },
    {
      "cell_type": "markdown",
      "source": [
        "# Preparing StackOverflow QA Data\n",
        "\n",
        "This notebook creates a train, validation, and test sets containing a StackOverflow question with its corresponding top answer."
      ],
      "metadata": {
        "id": "rQvRJXJonVlj"
      }
    },
    {
      "cell_type": "code",
      "execution_count": 1,
      "metadata": {
        "colab": {
          "base_uri": "https://localhost:8080/"
        },
        "id": "ecIr2SADnPks",
        "outputId": "eb845449-f6c8-406c-cd11-759eb1d20385"
      },
      "outputs": [
        {
          "output_type": "stream",
          "name": "stdout",
          "text": [
            "Thu Dec  9 00:43:51 2021       \n",
            "+-----------------------------------------------------------------------------+\n",
            "| NVIDIA-SMI 495.44       Driver Version: 460.32.03    CUDA Version: 11.2     |\n",
            "|-------------------------------+----------------------+----------------------+\n",
            "| GPU  Name        Persistence-M| Bus-Id        Disp.A | Volatile Uncorr. ECC |\n",
            "| Fan  Temp  Perf  Pwr:Usage/Cap|         Memory-Usage | GPU-Util  Compute M. |\n",
            "|                               |                      |               MIG M. |\n",
            "|===============================+======================+======================|\n",
            "|   0  Tesla P100-PCIE...  Off  | 00000000:00:04.0 Off |                    0 |\n",
            "| N/A   47C    P0    30W / 250W |      0MiB / 16280MiB |      0%      Default |\n",
            "|                               |                      |                  N/A |\n",
            "+-------------------------------+----------------------+----------------------+\n",
            "                                                                               \n",
            "+-----------------------------------------------------------------------------+\n",
            "| Processes:                                                                  |\n",
            "|  GPU   GI   CI        PID   Type   Process name                  GPU Memory |\n",
            "|        ID   ID                                                   Usage      |\n",
            "|=============================================================================|\n",
            "|  No running processes found                                                 |\n",
            "+-----------------------------------------------------------------------------+\n"
          ]
        }
      ],
      "source": [
        "!nvidia-smi"
      ]
    },
    {
      "cell_type": "markdown",
      "source": [
        "# Installations"
      ],
      "metadata": {
        "id": "gbCKW2p8pZgk"
      }
    },
    {
      "cell_type": "code",
      "source": [
        "!pip install xmltodict wget pyunpack patool --quiet"
      ],
      "metadata": {
        "colab": {
          "base_uri": "https://localhost:8080/"
        },
        "id": "WRqyRljCpWOs",
        "outputId": "58956087-ca2f-475d-9e33-1a214ef254ed"
      },
      "execution_count": 5,
      "outputs": [
        {
          "output_type": "stream",
          "name": "stdout",
          "text": [
            "\u001b[?25l\r\u001b[K     |████▎                           | 10 kB 18.5 MB/s eta 0:00:01\r\u001b[K     |████████▌                       | 20 kB 13.4 MB/s eta 0:00:01\r\u001b[K     |████████████▊                   | 30 kB 8.6 MB/s eta 0:00:01\r\u001b[K     |█████████████████               | 40 kB 7.7 MB/s eta 0:00:01\r\u001b[K     |█████████████████████▏          | 51 kB 4.2 MB/s eta 0:00:01\r\u001b[K     |█████████████████████████▍      | 61 kB 4.0 MB/s eta 0:00:01\r\u001b[K     |█████████████████████████████▋  | 71 kB 4.6 MB/s eta 0:00:01\r\u001b[K     |████████████████████████████████| 77 kB 2.8 MB/s \n",
            "\u001b[?25h"
          ]
        }
      ]
    },
    {
      "cell_type": "markdown",
      "source": [
        "# Imports"
      ],
      "metadata": {
        "id": "z4UqLTh2pizq"
      }
    },
    {
      "cell_type": "code",
      "source": [
        "import os\n",
        "import re\n",
        "import wget\n",
        "from pyunpack import Archive\n",
        "import xmltodict\n",
        "import xml.etree.ElementTree as ET\n",
        "from collections import OrderedDict\n",
        "from tqdm import tqdm\n",
        "import pandas as pd\n",
        "import numpy as np\n",
        "from sklearn.metrics import f1_score\n",
        "from sklearn.model_selection import train_test_split\n",
        "pd.set_option('display.max_colwidth', None)"
      ],
      "metadata": {
        "id": "M1yzwggapjwp"
      },
      "execution_count": 127,
      "outputs": []
    },
    {
      "cell_type": "code",
      "source": [
        "np.random.seed(3407)"
      ],
      "metadata": {
        "id": "DlmLR2iEqD3H"
      },
      "execution_count": 8,
      "outputs": []
    },
    {
      "cell_type": "markdown",
      "source": [
        "# Getting the Data"
      ],
      "metadata": {
        "id": "WfCZpfifx7Fu"
      }
    },
    {
      "cell_type": "code",
      "source": [
        "url = 'https://archive.org/download/stackexchange/ai.stackexchange.com.7z'\n",
        "wget.download(url)"
      ],
      "metadata": {
        "colab": {
          "base_uri": "https://localhost:8080/",
          "height": 36
        },
        "id": "qpIEFuFzqQ2d",
        "outputId": "78c002c6-7c79-443e-91ec-2e7aa2512205"
      },
      "execution_count": 9,
      "outputs": [
        {
          "output_type": "execute_result",
          "data": {
            "application/vnd.google.colaboratory.intrinsic+json": {
              "type": "string"
            },
            "text/plain": [
              "'ai.stackexchange.com.7z'"
            ]
          },
          "metadata": {},
          "execution_count": 9
        }
      ]
    },
    {
      "cell_type": "code",
      "source": [
        "if not os.path.isdir('./data'):\n",
        "    os.mkdir('./data')\n",
        "if len(os.listdir('./data') ) == 0:\n",
        "    Archive('ai.stackexchange.com.7z').extractall(\"./data\")"
      ],
      "metadata": {
        "id": "eqnzkRqUyR7J"
      },
      "execution_count": 51,
      "outputs": []
    },
    {
      "cell_type": "code",
      "source": [
        "tree = ET.parse('./data/Posts.xml')\n",
        "tree = tree.getroot()"
      ],
      "metadata": {
        "id": "k9cVtf841WS9"
      },
      "execution_count": 27,
      "outputs": []
    },
    {
      "cell_type": "code",
      "source": [
        "xmlstr = ET.tostring(tree, encoding='utf8', method='xml').decode()"
      ],
      "metadata": {
        "id": "2Dq5Rz-K0vox"
      },
      "execution_count": 37,
      "outputs": []
    },
    {
      "cell_type": "code",
      "source": [
        "soDict = xmltodict.parse(xmlstr)"
      ],
      "metadata": {
        "id": "eWYbTshvz_cJ"
      },
      "execution_count": 38,
      "outputs": []
    },
    {
      "cell_type": "code",
      "source": [
        "type(soDict)"
      ],
      "metadata": {
        "colab": {
          "base_uri": "https://localhost:8080/"
        },
        "id": "WFBlkL-mO-va",
        "outputId": "086ed6fc-4276-490d-ed57-1d0a464acabe"
      },
      "execution_count": 133,
      "outputs": [
        {
          "output_type": "execute_result",
          "data": {
            "text/plain": [
              "collections.OrderedDict"
            ]
          },
          "metadata": {},
          "execution_count": 133
        }
      ]
    },
    {
      "cell_type": "code",
      "source": [
        "soDict['posts']['row'][0]"
      ],
      "metadata": {
        "colab": {
          "base_uri": "https://localhost:8080/"
        },
        "id": "pHANJ_oY6vXt",
        "outputId": "32048115-ef86-4e34-9b81-1f2ce156f8e6"
      },
      "execution_count": 134,
      "outputs": [
        {
          "output_type": "execute_result",
          "data": {
            "text/plain": [
              "OrderedDict([('@AcceptedAnswerId', '3'),\n",
              "             ('@AnswerCount', '5'),\n",
              "             ('@Body',\n",
              "              '<p>What does \"backprop\" mean? Is the \"backprop\" term basically the same as \"backpropagation\" or does it have a different meaning?</p>\\n'),\n",
              "             ('@CommentCount', '0'),\n",
              "             ('@ContentLicense', 'CC BY-SA 4.0'),\n",
              "             ('@CreationDate', '2016-08-02T15:39:14.947'),\n",
              "             ('@FavoriteCount', '1'),\n",
              "             ('@Id', '1'),\n",
              "             ('@LastActivityDate', '2021-07-08T10:45:23.250'),\n",
              "             ('@LastEditDate', '2019-11-16T17:56:22.093'),\n",
              "             ('@LastEditorUserId', '2444'),\n",
              "             ('@OwnerUserId', '8'),\n",
              "             ('@PostTypeId', '1'),\n",
              "             ('@Score', '10'),\n",
              "             ('@Tags',\n",
              "              '<neural-networks><backpropagation><terminology><definitions>'),\n",
              "             ('@Title', 'What is \"backprop\"?'),\n",
              "             ('@ViewCount', '625')])"
            ]
          },
          "metadata": {},
          "execution_count": 134
        }
      ]
    },
    {
      "cell_type": "code",
      "source": [
        "soDict['posts']['row'][2]"
      ],
      "metadata": {
        "colab": {
          "base_uri": "https://localhost:8080/"
        },
        "id": "OSflgTTD0M9Z",
        "outputId": "f824c85b-08fa-4960-de96-f88afa48563f"
      },
      "execution_count": 66,
      "outputs": [
        {
          "output_type": "execute_result",
          "data": {
            "text/plain": [
              "OrderedDict([('@Body',\n",
              "              '<p>\"Backprop\" is the same as \"backpropagation\": it\\'s just a shorter way to say it. It is sometimes abbreviated as \"BP\".</p>\\n'),\n",
              "             ('@CommentCount', '0'),\n",
              "             ('@ContentLicense', 'CC BY-SA 3.0'),\n",
              "             ('@CreationDate', '2016-08-02T15:40:24.820'),\n",
              "             ('@Id', '3'),\n",
              "             ('@LastActivityDate', '2016-08-02T15:40:24.820'),\n",
              "             ('@OwnerUserId', '4'),\n",
              "             ('@ParentId', '1'),\n",
              "             ('@PostTypeId', '2'),\n",
              "             ('@Score', '15')])"
            ]
          },
          "metadata": {},
          "execution_count": 66
        }
      ]
    },
    {
      "cell_type": "code",
      "source": [
        "len(soDict['posts']['row'])"
      ],
      "metadata": {
        "colab": {
          "base_uri": "https://localhost:8080/"
        },
        "id": "nNvT34nT7iWK",
        "outputId": "4ee0c0c7-442a-4a4a-adc5-668ca36c2f30"
      },
      "execution_count": 59,
      "outputs": [
        {
          "output_type": "execute_result",
          "data": {
            "text/plain": [
              "21482"
            ]
          },
          "metadata": {},
          "execution_count": 59
        }
      ]
    },
    {
      "cell_type": "code",
      "source": [
        "soQADict = {}"
      ],
      "metadata": {
        "id": "pUkZ9nuvFm_l"
      },
      "execution_count": 72,
      "outputs": []
    },
    {
      "cell_type": "code",
      "source": [
        "counter = 0\n",
        "\n",
        "for i in range(len(soDict['posts']['row'])):\n",
        "    post = soDict['posts']['row'][i]\n",
        "    if post.__contains__('@AcceptedAnswerId'):\n",
        "        post_id = counter\n",
        "        counter += 1\n",
        "        AcceptedAnswerId = int(post['@AcceptedAnswerId'])\n",
        "        soQADict[post_id] = {}\n",
        "        try:\n",
        "            soQADict[post_id]['BestAnswer'] = soDict['posts']['row'][AcceptedAnswerId]['@Body']\n",
        "            soQADict[post_id]['AnswerScore'] = soDict['posts']['row'][AcceptedAnswerId]['@Score']\n",
        "            soQADict[post_id]['AnswerCreationDate'] = soDict['posts']['row'][AcceptedAnswerId]['@CreationDate']\n",
        "        except (IndexError):\n",
        "            continue\n",
        "        soQADict[post_id]['Title'] = post['@Title']\n",
        "        soQADict[post_id]['Question'] = post['@Body']\n",
        "        soQADict[post_id]['QuestionScore'] = post['@Score']\n",
        "        soQADict[post_id]['QuestionCreationDate'] = post['@CreationDate']\n",
        "        soQADict[post_id]['QuestionTags'] = post['@Tags']\n",
        "        if post.__contains__('@FavoriteCount'):\n",
        "            soQADict[post_id]['FavoriteCount'] = post['@FavoriteCount']\n",
        "        soQADict[post_id]['ViewCount'] = post['@ViewCount']"
      ],
      "metadata": {
        "id": "5hhT5r3F6SFt"
      },
      "execution_count": 108,
      "outputs": []
    },
    {
      "cell_type": "code",
      "source": [
        "len(soQADict)"
      ],
      "metadata": {
        "colab": {
          "base_uri": "https://localhost:8080/"
        },
        "id": "VCtqTQ4UFLv5",
        "outputId": "8b3f8801-8428-43d1-b150-451187c04917"
      },
      "execution_count": 110,
      "outputs": [
        {
          "output_type": "execute_result",
          "data": {
            "text/plain": [
              "3235"
            ]
          },
          "metadata": {},
          "execution_count": 110
        }
      ]
    },
    {
      "cell_type": "code",
      "source": [
        "soQADict = OrderedDict(soQADict)"
      ],
      "metadata": {
        "id": "PQgUL0qqNhWO"
      },
      "execution_count": 129,
      "outputs": []
    },
    {
      "cell_type": "code",
      "source": [
        "soQADict[0]"
      ],
      "metadata": {
        "colab": {
          "base_uri": "https://localhost:8080/"
        },
        "id": "sF_sUNtaOWAH",
        "outputId": "56ebffd4-873a-4b0c-faeb-5c000c5a971e"
      },
      "execution_count": 132,
      "outputs": [
        {
          "output_type": "execute_result",
          "data": {
            "text/plain": [
              "{'AnswerCreationDate': '2016-08-02T15:41:22.020',\n",
              " 'AnswerScore': '32',\n",
              " 'BestAnswer': \"<p>When you're writing your algorithm, how do you know how many neurons you need per single layer? Are there any methods for finding the optimal number of them, or is it a rule of thumb?</p>\\n\",\n",
              " 'FavoriteCount': '1',\n",
              " 'Question': '<p>What does \"backprop\" mean? Is the \"backprop\" term basically the same as \"backpropagation\" or does it have a different meaning?</p>\\n',\n",
              " 'QuestionCreationDate': '2016-08-02T15:39:14.947',\n",
              " 'QuestionScore': '10',\n",
              " 'QuestionTags': '<neural-networks><backpropagation><terminology><definitions>',\n",
              " 'Title': 'What is \"backprop\"?',\n",
              " 'ViewCount': '625'}"
            ]
          },
          "metadata": {},
          "execution_count": 132
        }
      ]
    },
    {
      "cell_type": "code",
      "source": [
        "from itertools import islice\n",
        "list(islice(sorted(soQADict.items()), 5))"
      ],
      "metadata": {
        "colab": {
          "base_uri": "https://localhost:8080/",
          "height": 189
        },
        "id": "YbU1I0Z-Ooa-",
        "outputId": "0bf1f1d7-7970-402f-e66d-1f2e9b9e1039"
      },
      "execution_count": 131,
      "outputs": [
        {
          "output_type": "error",
          "ename": "TypeError",
          "evalue": "ignored",
          "traceback": [
            "\u001b[0;31m---------------------------------------------------------------------------\u001b[0m",
            "\u001b[0;31mTypeError\u001b[0m                                 Traceback (most recent call last)",
            "\u001b[0;32m<ipython-input-131-ead022ada212>\u001b[0m in \u001b[0;36m<module>\u001b[0;34m()\u001b[0m\n\u001b[1;32m      1\u001b[0m \u001b[0;32mfrom\u001b[0m \u001b[0mitertools\u001b[0m \u001b[0;32mimport\u001b[0m \u001b[0mislice\u001b[0m\u001b[0;34m\u001b[0m\u001b[0;34m\u001b[0m\u001b[0m\n\u001b[0;32m----> 2\u001b[0;31m \u001b[0mlist\u001b[0m\u001b[0;34m(\u001b[0m\u001b[0mislice\u001b[0m\u001b[0;34m(\u001b[0m\u001b[0msorted\u001b[0m\u001b[0;34m(\u001b[0m\u001b[0msoQADict\u001b[0m\u001b[0;34m.\u001b[0m\u001b[0mitems\u001b[0m\u001b[0;34m(\u001b[0m\u001b[0;34m)\u001b[0m\u001b[0;34m)\u001b[0m\u001b[0;34m,\u001b[0m \u001b[0;36m5\u001b[0m\u001b[0;34m)\u001b[0m\u001b[0;34m)\u001b[0m\u001b[0;34m\u001b[0m\u001b[0;34m\u001b[0m\u001b[0m\n\u001b[0m",
            "\u001b[0;31mTypeError\u001b[0m: '<' not supported between instances of 'int' and 'str'"
          ]
        }
      ]
    },
    {
      "cell_type": "code",
      "source": [
        ""
      ],
      "metadata": {
        "id": "T-HIytphOuHC"
      },
      "execution_count": null,
      "outputs": []
    }
  ]
}