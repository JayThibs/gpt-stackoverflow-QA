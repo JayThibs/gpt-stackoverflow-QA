{
  "nbformat": 4,
  "nbformat_minor": 0,
  "metadata": {
    "colab": {
      "name": "data_preparation.ipynb",
      "provenance": [],
      "collapsed_sections": [],
      "machine_shape": "hm",
      "authorship_tag": "ABX9TyPkBJZX46F4gS2wejzYDCXz",
      "include_colab_link": true
    },
    "kernelspec": {
      "name": "python3",
      "display_name": "Python 3"
    },
    "language_info": {
      "name": "python"
    },
    "accelerator": "GPU"
  },
  "cells": [
    {
      "cell_type": "markdown",
      "metadata": {
        "id": "view-in-github",
        "colab_type": "text"
      },
      "source": [
        "<a href=\"https://colab.research.google.com/github/JayThibs/gpt-stackoverflow-QA/blob/main/data_preparation.ipynb\" target=\"_parent\"><img src=\"https://colab.research.google.com/assets/colab-badge.svg\" alt=\"Open In Colab\"/></a>"
      ]
    },
    {
      "cell_type": "markdown",
      "source": [
        "# Preparing StackOverflow QA Data\n",
        "\n",
        "This notebook creates a train, validation, and test sets containing a StackOverflow question with its corresponding top answer."
      ],
      "metadata": {
        "id": "rQvRJXJonVlj"
      }
    },
    {
      "cell_type": "code",
      "execution_count": 1,
      "metadata": {
        "colab": {
          "base_uri": "https://localhost:8080/"
        },
        "id": "ecIr2SADnPks",
        "outputId": "eb845449-f6c8-406c-cd11-759eb1d20385"
      },
      "outputs": [
        {
          "output_type": "stream",
          "name": "stdout",
          "text": [
            "Thu Dec  9 00:43:51 2021       \n",
            "+-----------------------------------------------------------------------------+\n",
            "| NVIDIA-SMI 495.44       Driver Version: 460.32.03    CUDA Version: 11.2     |\n",
            "|-------------------------------+----------------------+----------------------+\n",
            "| GPU  Name        Persistence-M| Bus-Id        Disp.A | Volatile Uncorr. ECC |\n",
            "| Fan  Temp  Perf  Pwr:Usage/Cap|         Memory-Usage | GPU-Util  Compute M. |\n",
            "|                               |                      |               MIG M. |\n",
            "|===============================+======================+======================|\n",
            "|   0  Tesla P100-PCIE...  Off  | 00000000:00:04.0 Off |                    0 |\n",
            "| N/A   47C    P0    30W / 250W |      0MiB / 16280MiB |      0%      Default |\n",
            "|                               |                      |                  N/A |\n",
            "+-------------------------------+----------------------+----------------------+\n",
            "                                                                               \n",
            "+-----------------------------------------------------------------------------+\n",
            "| Processes:                                                                  |\n",
            "|  GPU   GI   CI        PID   Type   Process name                  GPU Memory |\n",
            "|        ID   ID                                                   Usage      |\n",
            "|=============================================================================|\n",
            "|  No running processes found                                                 |\n",
            "+-----------------------------------------------------------------------------+\n"
          ]
        }
      ],
      "source": [
        "!nvidia-smi"
      ]
    },
    {
      "cell_type": "markdown",
      "source": [
        "# Installations"
      ],
      "metadata": {
        "id": "gbCKW2p8pZgk"
      }
    },
    {
      "cell_type": "code",
      "source": [
        "!pip install xmltodict wget pyunpack patool --quiet"
      ],
      "metadata": {
        "colab": {
          "base_uri": "https://localhost:8080/"
        },
        "id": "WRqyRljCpWOs",
        "outputId": "58956087-ca2f-475d-9e33-1a214ef254ed"
      },
      "execution_count": 5,
      "outputs": [
        {
          "output_type": "stream",
          "name": "stdout",
          "text": [
            "\u001b[?25l\r\u001b[K     |████▎                           | 10 kB 18.5 MB/s eta 0:00:01\r\u001b[K     |████████▌                       | 20 kB 13.4 MB/s eta 0:00:01\r\u001b[K     |████████████▊                   | 30 kB 8.6 MB/s eta 0:00:01\r\u001b[K     |█████████████████               | 40 kB 7.7 MB/s eta 0:00:01\r\u001b[K     |█████████████████████▏          | 51 kB 4.2 MB/s eta 0:00:01\r\u001b[K     |█████████████████████████▍      | 61 kB 4.0 MB/s eta 0:00:01\r\u001b[K     |█████████████████████████████▋  | 71 kB 4.6 MB/s eta 0:00:01\r\u001b[K     |████████████████████████████████| 77 kB 2.8 MB/s \n",
            "\u001b[?25h"
          ]
        }
      ]
    },
    {
      "cell_type": "markdown",
      "source": [
        "# Imports"
      ],
      "metadata": {
        "id": "z4UqLTh2pizq"
      }
    },
    {
      "cell_type": "code",
      "source": [
        "import os\n",
        "import re\n",
        "import wget\n",
        "import xmltodict\n",
        "from xml.dom import minidom\n",
        "from tqdm import tqdm\n",
        "import pandas as pd\n",
        "import numpy as np\n",
        "from sklearn.metrics import f1_score\n",
        "from sklearn.model_selection import train_test_split\n",
        "pd.set_option('display.max_colwidth', None)"
      ],
      "metadata": {
        "id": "M1yzwggapjwp"
      },
      "execution_count": 13,
      "outputs": []
    },
    {
      "cell_type": "code",
      "source": [
        "np.random.seed(3407)"
      ],
      "metadata": {
        "id": "DlmLR2iEqD3H"
      },
      "execution_count": 8,
      "outputs": []
    },
    {
      "cell_type": "markdown",
      "source": [
        "# Getting the Data"
      ],
      "metadata": {
        "id": "WfCZpfifx7Fu"
      }
    },
    {
      "cell_type": "code",
      "source": [
        "url = 'https://archive.org/download/stackexchange/ai.stackexchange.com.7z'\n",
        "wget.download(url)"
      ],
      "metadata": {
        "colab": {
          "base_uri": "https://localhost:8080/",
          "height": 36
        },
        "id": "qpIEFuFzqQ2d",
        "outputId": "78c002c6-7c79-443e-91ec-2e7aa2512205"
      },
      "execution_count": 9,
      "outputs": [
        {
          "output_type": "execute_result",
          "data": {
            "application/vnd.google.colaboratory.intrinsic+json": {
              "type": "string"
            },
            "text/plain": [
              "'ai.stackexchange.com.7z'"
            ]
          },
          "metadata": {},
          "execution_count": 9
        }
      ]
    },
    {
      "cell_type": "code",
      "source": [
        "from pyunpack import Archive\n",
        "!mkdir ./data\n",
        "Archive('ai.stackexchange.com.7z').extractall(\"./data\")"
      ],
      "metadata": {
        "id": "eqnzkRqUyR7J"
      },
      "execution_count": 11,
      "outputs": []
    },
    {
      "cell_type": "code",
      "source": [
        "# parse an xml file by name\n",
        "mydoc = minidom.parse('./data/Posts.xml')"
      ],
      "metadata": {
        "id": "u-JbQxxay2hh"
      },
      "execution_count": 14,
      "outputs": []
    },
    {
      "cell_type": "code",
      "source": [
        "items = mydoc.getElementsByTagName('item')\n",
        "\n",
        "# one specific item attribute\n",
        "print('Item #2 attribute:')\n",
        "print(items)"
      ],
      "metadata": {
        "colab": {
          "base_uri": "https://localhost:8080/"
        },
        "id": "EOS4uXGAz5jG",
        "outputId": "bf45277f-2b8d-460b-8b2b-4e3c27cf5182"
      },
      "execution_count": 19,
      "outputs": [
        {
          "output_type": "stream",
          "name": "stdout",
          "text": [
            "Item #2 attribute:\n",
            "[]\n"
          ]
        }
      ]
    },
    {
      "cell_type": "code",
      "source": [
        "import xml.etree.ElementTree as ET\n",
        "tree = ET.parse('./data/Posts.xml')\n",
        "tree = tree.getroot()"
      ],
      "metadata": {
        "id": "k9cVtf841WS9"
      },
      "execution_count": 27,
      "outputs": []
    },
    {
      "cell_type": "code",
      "source": [
        "xmlstr = ET.tostring(tree, encoding='utf8', method='xml').decode()"
      ],
      "metadata": {
        "id": "2Dq5Rz-K0vox"
      },
      "execution_count": 37,
      "outputs": []
    },
    {
      "cell_type": "code",
      "source": [
        "soDict = xmltodict.parse(xmlstr)"
      ],
      "metadata": {
        "id": "eWYbTshvz_cJ"
      },
      "execution_count": 38,
      "outputs": []
    },
    {
      "cell_type": "code",
      "source": [
        "soDict['posts']['row'][0]['@Body']"
      ],
      "metadata": {
        "colab": {
          "base_uri": "https://localhost:8080/",
          "height": 54
        },
        "id": "OSflgTTD0M9Z",
        "outputId": "cfee9d79-8556-47c3-feb6-8cf9a1954fd0"
      },
      "execution_count": 50,
      "outputs": [
        {
          "output_type": "execute_result",
          "data": {
            "application/vnd.google.colaboratory.intrinsic+json": {
              "type": "string"
            },
            "text/plain": [
              "'<p>What does \"backprop\" mean? Is the \"backprop\" term basically the same as \"backpropagation\" or does it have a different meaning?</p>\\n'"
            ]
          },
          "metadata": {},
          "execution_count": 50
        }
      ]
    },
    {
      "cell_type": "code",
      "source": [
        ""
      ],
      "metadata": {
        "id": "Uh3emsFQ2lGp"
      },
      "execution_count": null,
      "outputs": []
    }
  ]
}